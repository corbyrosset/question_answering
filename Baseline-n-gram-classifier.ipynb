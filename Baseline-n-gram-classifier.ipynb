{
 "cells": [
  {
   "cell_type": "code",
   "execution_count": null,
   "metadata": {
    "collapsed": true
   },
   "outputs": [],
   "source": [
    "import DataImport\n",
    "from sklearn.feature_extraction.text import CountVectorizer\n",
    "from sklearn.linear_model import LogisticRegression\n",
    "from scipy.sparse import hstack\n",
    "import numpy as np"
   ]
  },
  {
   "cell_type": "code",
   "execution_count": null,
   "metadata": {
    "collapsed": false
   },
   "outputs": [],
   "source": [
    "train_examples = DataImport.getdata(\"qa1_single-supporting-fact_train.txt\")\n",
    "test_examples = DataImport.getdata(\"qa1_single-supporting-fact_test.txt\")"
   ]
  },
  {
   "cell_type": "code",
   "execution_count": null,
   "metadata": {
    "collapsed": true
   },
   "outputs": [],
   "source": [
    "vectorizer = CountVectorizer(ngram_range=(1, 3),min_df=1)"
   ]
  },
  {
   "cell_type": "code",
   "execution_count": null,
   "metadata": {
    "collapsed": true
   },
   "outputs": [],
   "source": [
    "def vectorize(examples):\n",
    "    X = []\n",
    "    Y = []\n",
    "    Q = []\n",
    "    for example in examples:\n",
    "        X.append(\" \".join(example['s']))\n",
    "        Q.append(example['q'])\n",
    "        Y.append(example['a'])\n",
    "    return (X,Y,Q)"
   ]
  },
  {
   "cell_type": "code",
   "execution_count": null,
   "metadata": {
    "collapsed": true
   },
   "outputs": [],
   "source": [
    "(X_tr, Y_tr, Q_tr) = vectorize(train_examples)\n",
    "(X_te, Y_te, Q_te) = vectorize(test_examples)\n",
    "feature_extractor = vectorizer.fit(X_tr+X_te+Y_tr+Y_te+Q_tr+Q_te)"
   ]
  },
  {
   "cell_type": "code",
   "execution_count": null,
   "metadata": {
    "collapsed": true
   },
   "outputs": [],
   "source": [
    "def get_features(feat_ex, X, Y, Q):\n",
    "    X_t = feat_ex.transform(X)\n",
    "    Q_t = feat_ex.transform(Q)\n",
    "    Y_t = np.argmax(feat_ex.transform(Y).todense(), axis=1)\n",
    "    return (hstack([X_t, Q_t]), Y_t)"
   ]
  },
  {
   "cell_type": "code",
   "execution_count": null,
   "metadata": {
    "collapsed": false
   },
   "outputs": [],
   "source": [
    "clf = LogisticRegression(multi_class='multinomial', solver='lbfgs')\n",
    "(t_train, y_train) = get_features(feature_extractor, X_tr, Y_tr, Q_tr)\n",
    "print t_train.shape"
   ]
  },
  {
   "cell_type": "code",
   "execution_count": null,
   "metadata": {
    "collapsed": false
   },
   "outputs": [],
   "source": [
    "clf.fit(t_train, y_train)\n",
    "print \"Train score: %f\" % clf.score(t_train, y_train)\n",
    "\n",
    "(t_test, y_test) = get_features(feature_extractor, X_te, Y_te, Q_te)\n",
    "print \"Test score: %f\" % clf.score(t_test, y_test)"
   ]
  }
 ],
 "metadata": {
  "kernelspec": {
   "display_name": "Python 2",
   "language": "python",
   "name": "python2"
  },
  "language_info": {
   "codemirror_mode": {
    "name": "ipython",
    "version": 2
   },
   "file_extension": ".py",
   "mimetype": "text/x-python",
   "name": "python",
   "nbconvert_exporter": "python",
   "pygments_lexer": "ipython2",
   "version": "2.7.9"
  }
 },
 "nbformat": 4,
 "nbformat_minor": 0
}
