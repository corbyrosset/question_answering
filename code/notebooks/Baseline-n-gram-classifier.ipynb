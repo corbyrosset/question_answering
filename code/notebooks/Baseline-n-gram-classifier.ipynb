{
 "cells": [
  {
   "cell_type": "code",
   "execution_count": 18,
   "metadata": {
    "collapsed": true,
    "scrolled": false
   },
   "outputs": [],
   "source": [
    "import sys\n",
    "sys.path.append('../')"
   ]
  },
  {
   "cell_type": "code",
   "execution_count": 19,
   "metadata": {
    "collapsed": false
   },
   "outputs": [],
   "source": [
    "from data_import import *\n",
    "from sklearn.linear_model import LogisticRegression\n",
    "import numpy as np"
   ]
  },
  {
   "cell_type": "code",
   "execution_count": 89,
   "metadata": {
    "collapsed": false
   },
   "outputs": [
    {
     "name": "stdout",
     "output_type": "stream",
     "text": [
      "loading cached values for ('../../data/qa18_size-reasoning_train.txt',)\n",
      "loading cached values for ('../../data/qa18_size-reasoning_test.txt',)\n",
      "WARNING: Loading TEST SET\n"
     ]
    }
   ],
   "source": [
    "task_number = 18\n",
    "datadir = '../../data/'\n",
    "train_ex, test_ex = get_data(datadir, task_number, test=True)"
   ]
  },
  {
   "cell_type": "code",
   "execution_count": 90,
   "metadata": {
    "collapsed": false
   },
   "outputs": [],
   "source": [
    "word_vectors = wordVectors(train_ex) #  a canonical word <-> idx mapping self.words_to_idx, self.idx_to_word\n",
    "words_to_idx, idx_to_words = word_vectors.words_to_idx, word_vectors.idx_to_word\n",
    "n = len(words_to_idx.keys())"
   ]
  },
  {
   "cell_type": "code",
   "execution_count": 91,
   "metadata": {
    "collapsed": true
   },
   "outputs": [],
   "source": [
    "def get_design_matrix(dset):\n",
    "    X = np.zeros((len(dset), 2 * n))\n",
    "    for i, ex in enumerate(dset):\n",
    "        for sentence in ex.sentences:\n",
    "            for word in tokenize(sentence):\n",
    "                X[i, words_to_idx[word]] += 1\n",
    "        for word in tokenize(ex.question):\n",
    "            X[i, n + words_to_idx[word]] += 1\n",
    "    y = np.array([words_to_idx[tokenize(ex.answer)[0]] for ex in dset])\n",
    "    return X, y"
   ]
  },
  {
   "cell_type": "code",
   "execution_count": 92,
   "metadata": {
    "collapsed": false
   },
   "outputs": [],
   "source": [
    "X_train, y_train = get_design_matrix(train_ex)\n",
    "X_test, y_test = get_design_matrix(test_ex)"
   ]
  },
  {
   "cell_type": "code",
   "execution_count": 93,
   "metadata": {
    "collapsed": false
   },
   "outputs": [
    {
     "name": "stdout",
     "output_type": "stream",
     "text": [
      "Training Accuracy:  0.553\n"
     ]
    }
   ],
   "source": [
    "clf = LogisticRegression(multi_class='multinomial', solver='lbfgs')\n",
    "clf.fit(X_train, y_train)\n",
    "print 'Training Accuracy: ', clf.score(X_train, y_train)"
   ]
  },
  {
   "cell_type": "code",
   "execution_count": 94,
   "metadata": {
    "collapsed": false
   },
   "outputs": [
    {
     "name": "stdout",
     "output_type": "stream",
     "text": [
      "Testing Accuracy:  0.534\n"
     ]
    }
   ],
   "source": [
    "print 'Testing Accuracy: ', clf.score(X_test, y_test)"
   ]
  },
  {
   "cell_type": "code",
   "execution_count": null,
   "metadata": {
    "collapsed": true
   },
   "outputs": [],
   "source": []
  },
  {
   "cell_type": "code",
   "execution_count": null,
   "metadata": {
    "collapsed": true
   },
   "outputs": [],
   "source": []
  }
 ],
 "metadata": {
  "kernelspec": {
   "display_name": "Python 2",
   "language": "python",
   "name": "python2"
  },
  "language_info": {
   "codemirror_mode": {
    "name": "ipython",
    "version": 2
   },
   "file_extension": ".py",
   "mimetype": "text/x-python",
   "name": "python",
   "nbconvert_exporter": "python",
   "pygments_lexer": "ipython2",
   "version": "2.7.6"
  }
 },
 "nbformat": 4,
 "nbformat_minor": 0
}
