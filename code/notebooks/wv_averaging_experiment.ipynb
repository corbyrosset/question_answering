{
 "cells": [
  {
   "cell_type": "code",
   "execution_count": null,
   "metadata": {
    "collapsed": false
   },
   "outputs": [],
   "source": [
    "import sys\n",
    "sys.path.append('../')\n",
    "import random\n",
    "import numpy as np\n",
    "import theano\n",
    "import theano.tensor as T\n",
    "from models import *\n",
    "from data_import import *\n",
    "from util import *\n",
    "import layers\n",
    "import optimizers"
   ]
  },
  {
   "cell_type": "code",
   "execution_count": null,
   "metadata": {
    "collapsed": true
   },
   "outputs": [],
   "source": [
    "# CONSTANTS\n",
    "datadir = '../../data/'\n",
    "glovedir = '../../data/glove'\n",
    "SEED = 999\n",
    "# np.random.seed(SEED)\n",
    "\n",
    "task_number = 1 # simple task for now\n",
    "\n",
    "dimensions = 50  # speed up learning\n",
    "\n",
    "l2_reg = 0.0\n",
    "num_epochs = 100"
   ]
  },
  {
   "cell_type": "code",
   "execution_count": null,
   "metadata": {
    "collapsed": false
   },
   "outputs": [],
   "source": [
    "# Load Data\n",
    "train_ex, _ = get_data(datadir, task_number, test=False)\n",
    "word_vectors = wordVectors(train_ex)\n",
    "train_ex = examples_to_example_ind(word_vectors, train_ex)  # get examples in numerical format\n",
    "\n",
    "# shuffle data\n",
    "random.shuffle(train_ex)\n",
    "\n",
    "# split the train into 70% train, 30% dev\n",
    "train = train_ex[:int(.9 * len(train_ex))]\n",
    "dev = train_ex[int(.1 * len(train_ex)):]"
   ]
  },
  {
   "cell_type": "code",
   "execution_count": null,
   "metadata": {
    "collapsed": false
   },
   "outputs": [],
   "source": [
    "# get word_vectors (note using glove for now)\n",
    "wv_matrix = word_vectors.get_wv_matrix(dimensions, glovedir)"
   ]
  },
  {
   "cell_type": "code",
   "execution_count": null,
   "metadata": {
    "collapsed": false
   },
   "outputs": [],
   "source": [
    "# set up the basic model\n",
    "averaging_model = averagingModel(wv_matrix, hidden_dim=128, num_classes=wv_matrix.shape[1])\n",
    "\n",
    "support_idxs = T.ivector()\n",
    "question_idxs = T.ivector()\n",
    "\n",
    "answer_probs = averaging_model.get_answer_probs(support_idxs, question_idxs)\n",
    "answer_pred = T.argmax(answer_probs)"
   ]
  },
  {
   "cell_type": "code",
   "execution_count": null,
   "metadata": {
    "collapsed": false
   },
   "outputs": [],
   "source": [
    "# define the loss and cost function\n",
    "answer = T.ivector()\n",
    "loss = -T.mean(T.log(answer_probs)[T.arange(answer.shape[0]), answer])\n",
    "cost = loss + l2_reg * averaging_model.l2"
   ]
  },
  {
   "cell_type": "code",
   "execution_count": null,
   "metadata": {
    "collapsed": false
   },
   "outputs": [],
   "source": [
    "# optimization\n",
    "updates = optimizers.Adagrad(cost, averaging_model.params)"
   ]
  },
  {
   "cell_type": "code",
   "execution_count": null,
   "metadata": {
    "collapsed": false
   },
   "outputs": [],
   "source": [
    "# compile functions to train and evaluate the model\n",
    "predict = theano.function(\n",
    "           inputs = [support_idxs, question_idxs],\n",
    "           outputs = answer_pred\n",
    "    )\n",
    "\n",
    "backprop = theano.function(\n",
    "            inputs=[support_idxs, question_idxs, answer],\n",
    "            outputs=cost,\n",
    "            updates=updates)"
   ]
  },
  {
   "cell_type": "code",
   "execution_count": null,
   "metadata": {
    "collapsed": false
   },
   "outputs": [],
   "source": [
    "### Training!!!\n",
    "epoch = 0\n",
    "train_acc_hist = []\n",
    "dev_acc_hist = []\n",
    "while epoch < num_epochs:\n",
    "    print 'Epoch %d ' % epoch\n",
    "    for example in verboserate(train):\n",
    "        backprop(np.concatenate(example.sentences), example.question, example.answer)\n",
    "    \n",
    "    print 'Computing Train/Val Accuracy: '\n",
    "    def compute_acc(dset):\n",
    "        correct = 0.\n",
    "        for example in verboserate(dset):\n",
    "            if example.answer == predict(np.concatenate(example.sentences), example.question):\n",
    "                correct += 1\n",
    "        return correct / float(len(dset))\n",
    "    \n",
    "    train_acc, dev_acc  = compute_acc(train), compute_acc(dev)\n",
    "    train_acc_hist.append(train_acc)\n",
    "    dev_acc_hist.append(dev_acc)\n",
    "    print 'Train Accuracy: %f , Validation Accuracy %f' % (train_acc, dev_acc)\n",
    "    epoch += 1"
   ]
  },
  {
   "cell_type": "code",
   "execution_count": null,
   "metadata": {
    "collapsed": true
   },
   "outputs": [],
   "source": []
  }
 ],
 "metadata": {
  "kernelspec": {
   "display_name": "Python 2",
   "language": "python",
   "name": "python2"
  },
  "language_info": {
   "codemirror_mode": {
    "name": "ipython",
    "version": 2
   },
   "file_extension": ".py",
   "mimetype": "text/x-python",
   "name": "python",
   "nbconvert_exporter": "python",
   "pygments_lexer": "ipython2",
   "version": "2.7.6"
  }
 },
 "nbformat": 4,
 "nbformat_minor": 0
}
